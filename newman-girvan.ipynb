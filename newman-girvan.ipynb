{
  "nbformat": 4,
  "nbformat_minor": 0,
  "metadata": {
    "colab": {
      "provenance": [],
      "authorship_tag": "ABX9TyMk93SXfMF+toH/0xwg31Mz",
      "include_colab_link": true
    },
    "kernelspec": {
      "name": "python3",
      "display_name": "Python 3"
    },
    "language_info": {
      "name": "python"
    }
  },
  "cells": [
    {
      "cell_type": "markdown",
      "metadata": {
        "id": "view-in-github",
        "colab_type": "text"
      },
      "source": [
        "<a href=\"https://colab.research.google.com/github/tomerfatael/Social-Networks/blob/main/newman-girvan.ipynb\" target=\"_parent\"><img src=\"https://colab.research.google.com/assets/colab-badge.svg\" alt=\"Open In Colab\"/></a>"
      ]
    },
    {
      "cell_type": "code",
      "execution_count": null,
      "metadata": {
        "id": "UzJw4yEzS2Qw"
      },
      "outputs": [],
      "source": [
        "from networkx.generators import small\n",
        "import sys\n",
        "import networkx as nx\n",
        "import warnings\n",
        "import random\n",
        "import matplotlib.pyplot as plt\n",
        "from networkx.algorithms import bipartite\n",
        "warnings.filterwarnings('ignore')"
      ]
    },
    {
      "cell_type": "code",
      "source": [
        "def get_number_of_communities(generator):\n",
        "  return len(list(generator))\n",
        "\n",
        "def newman_girvan(g, k):\n",
        "  edge_betweenness = nx.edge_betweenness_centrality(g)\n",
        "  while(get_number_of_communities(nx.connected_components(g)) < k and len(edge_betweenness) > 0):\n",
        "    max_edge_betweenness = max(edge_betweenness, key=edge_betweenness.get)\n",
        "    g.remove_edge(max_edge_betweenness[0], max_edge_betweenness[1])\n",
        "    edge_betweenness = nx.edge_betweenness_centrality(g)\n",
        "\n",
        "  return [community for community in nx.connected_components(g)]  "
      ],
      "metadata": {
        "id": "tfraPfOgTEH3"
      },
      "execution_count": null,
      "outputs": []
    },
    {
      "cell_type": "code",
      "source": [
        "H=nx.path_graph(10)\n",
        "H.add_edge(50,59)\n",
        "nx.draw(H)\n",
        "plt.show()\n",
        "a = nx.connected_components(H)\n",
        "print(len(list(a)))\n",
        "# [c for c in sorted(nx.connected_components(H), key=len, reverse=True)]\n",
        "d = {('a','b'):4, 'b':3}\n",
        "print( max(d, key=d.get))"
      ],
      "metadata": {
        "colab": {
          "base_uri": "https://localhost:8080/",
          "height": 354
        },
        "id": "lpRUdnlQ6q0U",
        "outputId": "41180169-8d45-41de-fbda-06fdb83e799f"
      },
      "execution_count": null,
      "outputs": [
        {
          "output_type": "display_data",
          "data": {
            "text/plain": [
              "<Figure size 432x288 with 1 Axes>"
            ],
            "image/png": "[encoded data removed]"
          },
          "metadata": {}
        },
        {
          "output_type": "stream",
          "name": "stdout",
          "text": [
            "2\n",
            "('a', 'b')\n"
          ]
        }
      ]
    },
    {
      "cell_type": "code",
      "source": [
        "print(newman_girvan(H, 3))"
      ],
      "metadata": {
        "colab": {
          "base_uri": "https://localhost:8080/"
        },
        "id": "fAj2CY94BnuD",
        "outputId": "cd188c2d-acb8-423a-8e21-23e8d87e30a9"
      },
      "execution_count": null,
      "outputs": [
        {
          "output_type": "stream",
          "name": "stdout",
          "text": [
            "[{0, 1, 2, 3, 4}, {5, 6, 7, 8, 9}, {50, 59}]\n"
          ]
        }
      ]
    },
    {
      "cell_type": "code",
      "source": [
        "f = open('communities.txt', 'r')\n",
        "content = f.readlines()\n",
        "g = nx.Graph()\n",
        "for line in content:\n",
        "  splitted_line = line.split()\n",
        "  g.add_edge(splitted_line[0], splitted_line[1])\n",
        "\n",
        "print(len(newman_girvan(g, 3)))"
      ],
      "metadata": {
        "colab": {
          "base_uri": "https://localhost:8080/"
        },
        "id": "q1YMUb6eZUUk",
        "outputId": "6a48493a-fa8d-4360-8239-42159cc89d33"
      },
      "execution_count": null,
      "outputs": [
        {
          "output_type": "stream",
          "name": "stdout",
          "text": [
            "5\n"
          ]
        }
      ]
    }
  ]
}